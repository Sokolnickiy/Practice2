{
  "nbformat": 4,
  "nbformat_minor": 0,
  "metadata": {
    "colab": {
      "name": "Practice_7_KM-01_.ipynb",
      "provenance": [],
      "collapsed_sections": []
    },
    "kernelspec": {
      "name": "python3",
      "display_name": "Python 3.8.0 32-bit",
      "metadata": {
        "interpreter": {
          "hash": "d94ea807e9dd88dec85d6135010093db08445b4f78f2386ac1d177de969ce657"
        }
      }
    }
  },
  "cells": [
    {
      "cell_type": "markdown",
      "metadata": {
        "id": "FMqboNwO4rVs"
      },
      "source": [
        "# **Курс \"Програмування на мові Python\"**\n",
        "\n",
        "##### Викладачі:\n",
        "##### Борисенко Павло Борисович\n",
        "##### Щьоголєв Максим Олегович\n"
      ]
    },
    {
      "cell_type": "markdown",
      "metadata": {
        "id": "A2T6MigL5Z06"
      },
      "source": [
        "## **Практичне зайняття №9**\n",
        "\n",
        "### Тема: \"Лямбда-функції. Функції вищих порядків\""
      ]
    },
    {
      "cell_type": "markdown",
      "metadata": {
        "id": "cfCdgK2zXm7e"
      },
      "source": [
        "### **Завдання 1 (1 бал)**\n",
        "\n",
        "Продавець роздрібного товару влаштовує розпродаж. Для всіх товарів знижка однакова - 60%. Щоб вивісити нові цінники, продавець хоче скласти таблицю, в якій для кожного товару буде підрахована його нова вартість та сума знижки.\n",
        "\n",
        "Написати програму, яка буде генерувати таку таблицю. Вартість одиниць товарів до розпродажу подано у списку products_list. \n",
        "\n",
        "1. Для підрахунку невідомих значень повинні використовуватись вбудовані функції вищих порядків.\n",
        "\n",
        "2. Вартість з урахуванням знижки та суми знижок для кожного товару повинні зберігатись у двох окремих списках. Порядок товарів у нових списках повинен бути такий самий, як і в списку products_list.\n",
        "\n",
        "3. Кожне підраховане числове значення має бути округлене до сотих.\n",
        "\n",
        "4. Дані повинні виводитись у вигляді:\n",
        "\n",
        "**Discount table:**\n",
        "\n",
        "**29.25 11.7 17.55**\n",
        "\n",
        "**48.99 19.6 29.39**\n",
        "\n",
        "**...**\n",
        "\n",
        "\n",
        "products_list = [[29.25, 48.99, 99.98, 124.65, 214.30, 543.90, 799.85]]\n"
      ]
    },
    {
      "cell_type": "code",
      "metadata": {
        "id": "ifNX2M7LXm7f"
      },
      "source": [
        "products_list = [29.25, 48.99, 99.98, 124.65, 214.30, 543.90, 799.85]\n",
        "list1_new = list(map(lambda x: round(x * 0.4, 2), products_list))\n",
        "list2_new = list(map(lambda x: round(x * 0.6, 2), products_list))\n",
        "print('Discount table:')\n",
        "i = 0\n",
        "while i < len(products_list):\n",
        "  print(products_list[i], list1[i], list2[i], sep='\\t')\n",
        "  i+=1\n"
      ],
      "execution_count": 11,
      "outputs": [
        {
          "output_type": "stream",
          "name": "stdout",
          "text": [
            "Discount table:\n29.25\t11.7\t17.55\n48.99\t19.6\t29.39\n99.98\t39.99\t59.99\n124.65\t49.86\t74.79\n214.3\t85.72\t128.58\n543.9\t217.56\t326.34\n799.85\t319.94\t479.91\n"
          ]
        }
      ]
    },
    {
      "source": [
        "### **Завдання 2 (2 бали)**\n",
        "\n",
        "Зазвичай рік має 365 днів. Однак у високосні роки додається ще один день - 29 лютого. Правила визначення високосного року такі:\n",
        "\n",
        "- Будь-який рік, що ділиться на 400 - високосний.\n",
        "\n",
        "- З тих років, що залишились, будь-який рік, що ділиться на 100 - **не** високосний.\n",
        "\n",
        "- З тих років, що залишились, будь-який рік, що ділиться на 4 - високосний.\n",
        "\n",
        "- Усі інші роки, що залишились - **не** високосні.\n",
        "\n",
        "1) Створіть функцію, в якій за допомогою вбудованих функцій вищих порядків будуть визначатися високосні роки серед перелічених років у списку years. Створена функція має повертати список високосних років.\n",
        "\n",
        "2) Створіть функцію вищих порядків, яка прийматиме на вхід попередню функцію та визначатиме кількість днів у місяці. Також функція повинна приймати на вхід ще 2 параметри: ціле число від 1 до 12 (місяць) та рік, як ціле чотирицифрове число. Ці значення корисувач має вводити з клавіатури. Перевірку введених даних слід виконувати поза межами функцій."
      ],
      "cell_type": "markdown",
      "metadata": {}
    },
    {
      "cell_type": "code",
      "execution_count": 1,
      "metadata": {},
      "outputs": [
        {
          "output_type": "error",
          "ename": "ModuleNotFoundError",
          "evalue": "No module named 'numpy'",
          "traceback": [
            "\u001b[1;31m---------------------------------------------------------------------------\u001b[0m",
            "\u001b[1;31mModuleNotFoundError\u001b[0m                       Traceback (most recent call last)",
            "\u001b[1;32m<ipython-input-1-9e857f7a95b5>\u001b[0m in \u001b[0;36m<module>\u001b[1;34m\u001b[0m\n\u001b[1;32m----> 1\u001b[1;33m \u001b[1;32mimport\u001b[0m \u001b[0mnumpy\u001b[0m \u001b[1;32mas\u001b[0m \u001b[0mnp\u001b[0m\u001b[1;33m\u001b[0m\u001b[1;33m\u001b[0m\u001b[0m\n\u001b[0m\u001b[0;32m      2\u001b[0m \u001b[1;33m\u001b[0m\u001b[0m\n\u001b[0;32m      3\u001b[0m \u001b[0myears\u001b[0m \u001b[1;33m=\u001b[0m \u001b[0mnp\u001b[0m\u001b[1;33m.\u001b[0m\u001b[0marange\u001b[0m\u001b[1;33m(\u001b[0m\u001b[1;36m1900\u001b[0m\u001b[1;33m,\u001b[0m \u001b[1;36m2020\u001b[0m\u001b[1;33m+\u001b[0m\u001b[1;36m1\u001b[0m\u001b[1;33m,\u001b[0m \u001b[1;36m1\u001b[0m\u001b[1;33m)\u001b[0m\u001b[1;33m\u001b[0m\u001b[1;33m\u001b[0m\u001b[0m\n",
            "\u001b[1;31mModuleNotFoundError\u001b[0m: No module named 'numpy'"
          ]
        }
      ],
      "source": [
        "import numpy as np\n",
        "\n",
        "years = np.arange(1900, 2020+1, 1)\n",
        "\n",
        "def beautiful_func():\n",
        "    global years\n",
        "    arr_years_high_400 = list(filter(lambda x:  x % 400 == 0, years))\n",
        "    arr_years_without_400 = list(filter(lambda x:  x != arr_years_high_400[0], years))\n",
        "    arr_years_low_100 = list(filter(lambda x:  x % 100 ==0, arr_years_without_400))\n",
        "    arr_years_without_100 = list(filter(lambda x:  x != arr_years_low_100[0], arr_years_without_400))\n",
        "    arr_division_4 = list(filter(lambda x:  x % 4 == 0, arr_years_without_100))\n",
        "    return  arr_division_4 + arr_years_high_400\n",
        "\n",
        "\n",
        "dict_calendar = {'1': 31, '3': 31, '4': 30, '5': 31, '6': 30, '7': 31, '8': 31, '9': 30, '10':31, '11': 30, '12': 31}\n",
        "while True:\n",
        "    try:\n",
        "        month = int(input('Введіть число від 01 до 12'))\n",
        "        if month not in range(1, 13):\n",
        "            print('Недопустиме значення')\n",
        "            continue\n",
        "        else:\n",
        "            break\n",
        "    except ValueError:\n",
        "        print('Недопустиме значення')\n",
        "\n",
        "while True:\n",
        "    try:\n",
        "        year = int(input('Введіть рік'))\n",
        "        if year not in range(1900, 2021):\n",
        "            print('Недопустиме значення')\n",
        "            continue\n",
        "        else:\n",
        "            break\n",
        "    except ValueError:\n",
        "        print('Недопустиме значення')\n",
        "def beautiful_func2(func, year, month):\n",
        "    years = func()\n",
        "\n",
        "    if month == 2:\n",
        "        does_include = year in years\n",
        "        if does_include:\n",
        "            print('29 days')\n",
        "        else:\n",
        "            print('28 days')\n",
        "    else:\n",
        "        for month_dict in dict_calendar.keys():\n",
        "            if int(month_dict) == month:\n",
        "                print(dict_calendar[month_dict])\n",
        "\n",
        "beautiful_func2(beautiful_func, year, month)\n",
        "\n",
        "\n",
        "\n"
      ]
    }
  ]
}