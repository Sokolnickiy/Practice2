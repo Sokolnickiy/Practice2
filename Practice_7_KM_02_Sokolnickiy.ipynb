{
  "nbformat": 4,
  "nbformat_minor": 0,
  "metadata": {
    "colab": {
      "name": "Practice_7_KM-01_.ipynb",
      "provenance": [],
      "collapsed_sections": []
    },
    "kernelspec": {
      "name": "Python 3.8.0 32-bit",
      "display_name": "Python 3.8.0 32-bit",
      "metadata": {
        "interpreter": {
          "hash": "d94ea807e9dd88dec85d6135010093db08445b4f78f2386ac1d177de969ce657"
        }
      }
    }
  },
  "cells": [
    {
      "cell_type": "markdown",
      "metadata": {
        "id": "FMqboNwO4rVs"
      },
      "source": [
        "# **Курс \"Програмування на мові Python\"**\n",
        "\n",
        "##### Викладачі:\n",
        "##### Борисенко Павло Борисович\n",
        "##### Щьоголєв Максим Олегович\n"
      ]
    },
    {
      "cell_type": "markdown",
      "metadata": {
        "id": "A2T6MigL5Z06"
      },
      "source": [
        "## **Практичне зайняття №7**\n",
        "\n",
        "### Тема: \"Перевірка даних. Робота з виключеннями. Регулярні вирази\""
      ]
    },
    {
      "cell_type": "markdown",
      "metadata": {
        "id": "cfCdgK2zXm7e"
      },
      "source": [
        "### **Завдання 1 (1,5 бали)**\n",
        "\n",
        "Переробити завдання №1 практичної роботи №6 з використанням регулярних виразів.\n",
        "\n",
        "1. Створити шаблон регулярного виразу.\n",
        "\n",
        "2. За допомогою функції compile() створити об'єкт регулярного виразу.\n",
        "\n",
        "3. Всі інші вимоги залишаються такими ж, як і в оригінальному завданні."
      ]
    },
    {
      "cell_type": "code",
      "metadata": {
        "id": "ifNX2M7LXm7f"
      },
      "source": [
        "pose_estimation = \"[BodyPart:0-(0.55, 0.17) score=0.81 BodyPart:1-(0.49, 0.27) score=0.85 BodyPart:2-(0.41, 0.26) score=0.67 BodyPart:3-(0.33, 0.37) score=0.72 BodyPart:4-(0.36, 0.48) score=0.78 BodyPart:5-(0.58, 0.27) score=0.81 BodyPart:6-(0.65, 0.38) score=0.88 BodyPart:7-(0.62, 0.48) score=0.86 BodyPart:8-(0.43, 0.48) score=0.60 BodyPart:9-(0.43, 0.66) score=0.67 BodyPart:10-(0.53, 0.79) score=0.56 BodyPart:11-(0.53, 0.48) score=0.56 BodyPart:12-(0.59, 0.66) score=0.75 BodyPart:13-(0.49, 0.80) score=0.50 BodyPart:14-(0.54, 0.15) score=0.73 BodyPart:15-(0.56, 0.15) score=0.85 BodyPart:16-(0.48, 0.16) score=0.81 BodyPart:17-(0.83, 0.18) score=0.79]\"\n",
        "import re\n",
        "\n",
        "reg_experimental = re.compile(\"[0-9].[0-9]{2}\")\n",
        "\n",
        "reg_experimental_result = re.findall(reg_experimental, pose_estimation)\n",
        "\n",
        "score_new = []\n",
        "points_new = []\n",
        "\n",
        "for index, item in enumerate(reg_experimental_result, start=1):\n",
        "    if index % 3 == 0:\n",
        "        score_new.append(float(item))\n",
        "    else:\n",
        "        points_new.append(float(item))\n",
        "\n",
        "print(points_new)\n",
        "print(score_new)"
      ],
      "execution_count": 2,
      "outputs": []
    },
    {
      "cell_type": "markdown",
      "metadata": {
        "id": "M1Sg0vXJXm7n"
      },
      "source": [
        "### **Завдання 2 (1,5 бали)**\n",
        "\n",
        "Написати програму підрахунку коренів квадратного рівняння без попередніх перевірок.\n",
        "\n",
        "1. Користувач має вводити коефіцієнти a, b та c з клавіатури.\n",
        "\n",
        "2. Програма має обробляти помилки ділення на 0, кореня від'ємного числа та інші, а також виводити відповідні повідомлення у разі виникнення таких помилок.\n",
        "\n",
        "3. Якщо рівняння не має коренів, программа має генерувати помилку за допомогою ключового слова raise, а потім обробляти її.\n",
        "\n",
        "4. Правильно написана програма при виникненні різних помилок має виводити текст помилки, а також різні повідомлення про те, в чому суть цих помилок. Необроблених помилок бути не повинно."
      ]
    },
    {
      "cell_type": "code",
      "metadata": {
        "id": "co7fcAuvXm7o"
      },
      "source": [
        "try:\n",
        "    while True:\n",
        "        try:\n",
        "            a = float(input('Введіть параметр a\\n'))\n",
        "            break\n",
        "        except ValueError:\n",
        "            print('Недупустиме значення')\n",
        "    while True:\n",
        "        try:\n",
        "            b = float(input('Введіть параметр b\\n'))\n",
        "            break\n",
        "        except ValueError:\n",
        "            print('Недупустиме значення')\n",
        "    while True:\n",
        "        try:\n",
        "            c = float(input('Введіть параметр c\\n'))\n",
        "            break\n",
        "        except ValueError:\n",
        "            print('Недупустиме значення')\n",
        "    disc = pow(b, 2) - (4 * a * c)\n",
        "    if pow(b, 2) > (4 * a * c):\n",
        "        raise ValueError(\"Корінь з від'ємного числа\")\n",
        "    try:\n",
        "        x_first = (- b + pow(disc, 0.5))/(2 * a)\n",
        "        x_twice = (- b - pow(disc, 0.5))/(2 * a)\n",
        "    except ZeroDivisionError:\n",
        "        print('Ділення на нуль')\n",
        "except Exception as ex:\n",
        "    print(ex)\n",
        "    print('Невідома помилка!')"
      ],
      "execution_count": 2,
      "outputs": [
        {
          "output_type": "stream",
          "name": "stdout",
          "text": [
            "Ділення на нуль\n"
          ]
        }
      ]
    },
    {
      "cell_type": "code",
      "execution_count": null,
      "metadata": {},
      "outputs": [],
      "source": []
    }
  ]
}