{
  "nbformat": 4,
  "nbformat_minor": 0,
  "metadata": {
    "colab": {
      "name": "Pranctice_3_KM-01_<name>.ipynb",
      "provenance": [],
      "collapsed_sections": []
    },
    "kernelspec": {
      "name": "Python 3.8.0 32-bit",
      "display_name": "Python 3.8.0 32-bit",
      "metadata": {
        "interpreter": {
          "hash": "d94ea807e9dd88dec85d6135010093db08445b4f78f2386ac1d177de969ce657"
        }
      }
    }
  },
  "cells": [
    {
      "cell_type": "markdown",
      "metadata": {
        "id": "1bRxWHr5e8kt"
      },
      "source": [
        "# **Курс \"Програмування на мові Python\"**\n",
        "\n",
        "##### Викладачі:\n",
        "##### Борисенко Павло Борисович\n",
        "##### Щьоголєв Максим Олегович"
      ]
    },
    {
      "cell_type": "markdown",
      "metadata": {
        "id": "buZUwUgFe-kx"
      },
      "source": [
        "## **Практичне зайняття №3**\n",
        "### Тема: \"Перші програми на Python. Введення та виведення даних. Інструкція if\""
      ]
    },
    {
      "cell_type": "markdown",
      "metadata": {
        "id": "PUkxEn8EfAUe"
      },
      "source": [
        "### **Завдання 1 (1,5 бали)**\n",
        "\n"
      ]
    },
    {
      "cell_type": "markdown",
      "metadata": {
        "id": "M7jjwxAvfKa2"
      },
      "source": [
        "**Написати програму введення та виведення даних про одержувача листа (посилки) за стандартами Укрпошти.**\n",
        "\n",
        "1. Усі запити на введення даних повинні супроводжуватись відповідними підказками-поясненнями (бажано англійською мовою).\n",
        "\n",
        "2. Дані мають виводитись так, як показано нижче (з урахуванням кількості рядків та послідовності даних у кожному з них).\n",
        "\n",
        "3. Дані, виділені жирним шрифтом, повинні вводитись із клавіатури. Всього має бути 9 окремих команд введення даних\n",
        "\n",
        "4. Назви змінних повинні бути інформативними та оформленими відповідно до правил іменування змінних\n",
        "\n",
        "5. Додати 2 коментарі, що вказують на блоки введення та виведення даних.\n",
        "\n",
        "***Формат виведення даних:***\n",
        "\n",
        "(1) **Lucas** (2) **Diallo**\n",
        "\n",
        "(3) **3221234567**\n",
        "\n",
        "Str. (4) **Longue** (5) **3**, ap. (6) **5**, (7) **Bruxelles**\n",
        "\n",
        "(8) **1020**\n",
        "\n",
        "(9) **Belgium**"
      ]
    },
    {
      "cell_type": "code",
      "metadata": {
        "id": "hEJG5C3_fJk9",
        "tags": []
      },
      "source": [
        "first_name = input('Your First Name')\n",
        "last_name = input('Your Last Name')\n",
        "print(first_name,last_name)\n",
        "phone = int(input('Your Phone')) #ввод и перевод в тип int\n",
        "print(phone) #вывод на экран\n",
        "the_street = input('Your Street:')\n",
        "num_house = input('House number:')\n",
        "num_building = input('House BUILDING number:')\n",
        "city = input('Your city:')\n",
        "print('Str.', the_street, num_house,',', 'ap.', num_building, ',', city)\n",
        "index = int(input('Your Index:'))\n",
        "print(index)\n",
        "country = input('Your Country')\n",
        "print(country)"
      ],
      "execution_count": 3,
      "outputs": [
        {
          "output_type": "stream",
          "name": "stdout",
          "text": "Максим Сокольницкий\n663512528\nStr. Бажана 1-А , ap. 1к , Киев\n2048\nУкраина\n"
        }
      ]
    },
    {
      "cell_type": "markdown",
      "metadata": {
        "id": "WmnpKrmPf689"
      },
      "source": [
        "### **Завдання 2 (1,5 бали)**"
      ]
    },
    {
      "cell_type": "markdown",
      "metadata": {
        "id": "4n4p_pz7gFKM"
      },
      "source": [
        "Таблиця містить магнітуду землетрусів за шкалою Ріхтера та дескриптори, що їй відповідають.\n",
        "\n",
        "Магнітуда | Дескриптор\n",
        "--- | ---\n",
        "Менше, ніж 2 | Micro\n",
        "Від 2 до менше ніж 3 | Very minor\n",
        "Від 3 до менше ніж 4 | Minor\n",
        "Від 4 до менше ніж 5 | Light\n",
        "Від 5 до менше ніж 6 | Moderate\n",
        "Від 6 до менше ніж 7 | Strong\n",
        "Від 7 до менше ніж 8 | Major\n",
        "Від 8 до менше ніж 10 | Great\n",
        "10 та більше | Meteoric\n",
        "\n",
        "Напишіть програму, яка буде зчитувати магнітуду, введену користувачем, та виводити відповідний дескриптор як частину змістовного повідомлення. Наприклад, якщо користувач вводить 5.5, ваша програма повинна показати, що землетрус з такою магнітудою є помірним (moderate)."
      ]
    },
    {
      "cell_type": "code",
      "metadata": {
        "id": "Nv66Jkkpf-sI",
        "tags": []
      },
      "source": [
        "num = float(input('Введіть силу землетруса числом:'))\n",
        "if (num < 2) and (num > 0):\n",
        "    print('Micro')\n",
        "elif (num >= 2) and (num < 3):\n",
        "    print('Very Minor')\n",
        "elif (num >= 3) and (num < 4):\n",
        "    print('Minor')\n",
        "elif (num >= 4) and (num < 5):\n",
        "    print('Light')\n",
        "elif (num >= 5) and (num < 6):\n",
        "    print('Moderate')\n",
        "elif (num >= 6) and (num < 7):\n",
        "    print('Strong')\n",
        "elif (num >= 7) and (num < 8):\n",
        "    print('Major')\n",
        "elif (num >= 8) and (num < 10):\n",
        "    print('Great')\n",
        "elif num > 10:\n",
        "    print('Meteoric')\n",
        "elif num == 0:\n",
        "    print('lovely day')\n",
        "elif num < 0:\n",
        "    print('maybe you meant', abs(num),'?')\n"
      ],
      "execution_count": 14,
      "outputs": [
        {
          "output_type": "stream",
          "name": "stdout",
          "text": "Moderate\n"
        }
      ]
    },
    {
      "cell_type": "markdown",
      "metadata": {
        "id": "X8fC_GM_nMRi"
      },
      "source": [
        "### **Завдання 3 (бонусне, 1 бал)**"
      ]
    },
    {
      "cell_type": "markdown",
      "metadata": {
        "id": "b593txPwotgN"
      },
      "source": [
        "Часто говорять, що один календарний рік еквівалентний 7 рокам для собаки. Однак таке просте перетворення не враховує того, що собаки досягають повноліття приблизно у 2 роки. Тому деякі люди вважать, що краще рахувати кожен з перших двох календарних років як 10,5 років для собаки, а потім рахувати кожен наступний календарний рік як 4 роки для собаки.\n",
        "\n",
        "Напишіть програму, яка конвертує календарні роки у \"собачі\", як було показано в попередньому абзаці. Переконайтесь, що ваша програма працює правильно, конвертуючи перші два календарні роки та всі подальші. Ваша програма також повинна виводити повідомлення про помилку, якщо користувач введе від'ємне число."
      ]
    },
    {
      "cell_type": "code",
      "metadata": {
        "id": "PA_E_H0Zosu0",
        "tags": []
      },
      "source": [
        "year = int(input('Введіть кількість календарних років'))\n",
        "if year == 1:\n",
        "    print('Собаці десять з половиною років')\n",
        "elif year == 2:\n",
        "    print('Собаці двадцять один рік')\n",
        "elif year > 2:\n",
        "    if (year*4 + 21) % 10 == 1:\n",
        "        print('Собаці',year*4 + 21, 'рік') \n",
        "    if ((year*4 + 21) % 10) > 1 and ((year*4 + 21) % 10) <= 4:\n",
        "        print('Собаці',year*4 + 21, 'роки')\n",
        "    if ((year*4 + 21) % 10) > 4 and ((year*4 + 21) % 10) <= 10:\n",
        "        print('Собаці', year*4 + 21, 'років')\n",
        "elif year < 0:\n",
        "    print('Собаки у мінус не живуть.')\n",
        "    print('Можливо ви мали на увазі', abs(year), '?')\n",
        "elif year == 0:\n",
        "    print('Наші вітання, Ваша собака народилася, відкривайте шампанське!')\n"
      ],
      "execution_count": 22,
      "outputs": [
        {
          "output_type": "stream",
          "name": "stdout",
          "text": "Наші вітання, Ваша собака народилася, відкривайте шампанське!\n"
        }
      ]
    },
    {
      "cell_type": "code",
      "execution_count": null,
      "metadata": {},
      "outputs": [],
      "source": [
        "\n"
      ]
    }
  ]
}